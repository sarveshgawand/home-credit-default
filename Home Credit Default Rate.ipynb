{
 "cells": [
  {
   "cell_type": "code",
   "execution_count": 24,
   "metadata": {},
   "outputs": [],
   "source": [
    "import pandas as pd\n",
    "import numpy as np\n",
    "import matplotlib.pyplot as plt"
   ]
  },
  {
   "cell_type": "markdown",
   "metadata": {},
   "source": [
    "# Reading the Dataset"
   ]
  },
  {
   "cell_type": "code",
   "execution_count": 25,
   "metadata": {},
   "outputs": [],
   "source": [
    "df_train = pd.read_csv(r'C:\\Users\\SARVESH\\Documents\\GitHub\\home-credit-default\\modified.csv')"
   ]
  },
  {
   "cell_type": "code",
   "execution_count": 26,
   "metadata": {},
   "outputs": [
    {
     "data": {
      "text/html": [
       "<div>\n",
       "<style scoped>\n",
       "    .dataframe tbody tr th:only-of-type {\n",
       "        vertical-align: middle;\n",
       "    }\n",
       "\n",
       "    .dataframe tbody tr th {\n",
       "        vertical-align: top;\n",
       "    }\n",
       "\n",
       "    .dataframe thead th {\n",
       "        text-align: right;\n",
       "    }\n",
       "</style>\n",
       "<table border=\"1\" class=\"dataframe\">\n",
       "  <thead>\n",
       "    <tr style=\"text-align: right;\">\n",
       "      <th></th>\n",
       "      <th>SK_ID_CURR</th>\n",
       "      <th>TARGET</th>\n",
       "      <th>NAME_CONTRACT_TYPE</th>\n",
       "      <th>CODE_GENDER</th>\n",
       "      <th>FLAG_OWN_CAR</th>\n",
       "      <th>FLAG_OWN_REALTY</th>\n",
       "      <th>AMT_INCOME_TOTAL</th>\n",
       "      <th>AMT_CREDIT</th>\n",
       "      <th>NAME_INCOME_TYPE</th>\n",
       "      <th>NAME_EDUCATION_TYPE</th>\n",
       "      <th>NAME_FAMILY_STATUS</th>\n",
       "      <th>NAME_HOUSING_TYPE</th>\n",
       "    </tr>\n",
       "  </thead>\n",
       "  <tbody>\n",
       "    <tr>\n",
       "      <th>0</th>\n",
       "      <td>100002</td>\n",
       "      <td>1</td>\n",
       "      <td>Cash loans</td>\n",
       "      <td>M</td>\n",
       "      <td>N</td>\n",
       "      <td>Y</td>\n",
       "      <td>202500.0</td>\n",
       "      <td>406597.5</td>\n",
       "      <td>Working</td>\n",
       "      <td>Secondary / secondary special</td>\n",
       "      <td>Single / not married</td>\n",
       "      <td>House / apartment</td>\n",
       "    </tr>\n",
       "    <tr>\n",
       "      <th>1</th>\n",
       "      <td>100003</td>\n",
       "      <td>0</td>\n",
       "      <td>Cash loans</td>\n",
       "      <td>F</td>\n",
       "      <td>N</td>\n",
       "      <td>N</td>\n",
       "      <td>270000.0</td>\n",
       "      <td>1293502.5</td>\n",
       "      <td>State servant</td>\n",
       "      <td>Higher education</td>\n",
       "      <td>Married</td>\n",
       "      <td>House / apartment</td>\n",
       "    </tr>\n",
       "    <tr>\n",
       "      <th>2</th>\n",
       "      <td>100004</td>\n",
       "      <td>0</td>\n",
       "      <td>Revolving loans</td>\n",
       "      <td>M</td>\n",
       "      <td>Y</td>\n",
       "      <td>Y</td>\n",
       "      <td>67500.0</td>\n",
       "      <td>135000.0</td>\n",
       "      <td>Working</td>\n",
       "      <td>Secondary / secondary special</td>\n",
       "      <td>Single / not married</td>\n",
       "      <td>House / apartment</td>\n",
       "    </tr>\n",
       "    <tr>\n",
       "      <th>3</th>\n",
       "      <td>100006</td>\n",
       "      <td>0</td>\n",
       "      <td>Cash loans</td>\n",
       "      <td>F</td>\n",
       "      <td>N</td>\n",
       "      <td>Y</td>\n",
       "      <td>135000.0</td>\n",
       "      <td>312682.5</td>\n",
       "      <td>Working</td>\n",
       "      <td>Secondary / secondary special</td>\n",
       "      <td>Civil marriage</td>\n",
       "      <td>House / apartment</td>\n",
       "    </tr>\n",
       "    <tr>\n",
       "      <th>4</th>\n",
       "      <td>100007</td>\n",
       "      <td>0</td>\n",
       "      <td>Cash loans</td>\n",
       "      <td>M</td>\n",
       "      <td>N</td>\n",
       "      <td>Y</td>\n",
       "      <td>121500.0</td>\n",
       "      <td>513000.0</td>\n",
       "      <td>Working</td>\n",
       "      <td>Secondary / secondary special</td>\n",
       "      <td>Single / not married</td>\n",
       "      <td>House / apartment</td>\n",
       "    </tr>\n",
       "  </tbody>\n",
       "</table>\n",
       "</div>"
      ],
      "text/plain": [
       "   SK_ID_CURR  TARGET NAME_CONTRACT_TYPE CODE_GENDER FLAG_OWN_CAR  \\\n",
       "0      100002       1         Cash loans           M            N   \n",
       "1      100003       0         Cash loans           F            N   \n",
       "2      100004       0    Revolving loans           M            Y   \n",
       "3      100006       0         Cash loans           F            N   \n",
       "4      100007       0         Cash loans           M            N   \n",
       "\n",
       "  FLAG_OWN_REALTY  AMT_INCOME_TOTAL  AMT_CREDIT NAME_INCOME_TYPE  \\\n",
       "0               Y          202500.0    406597.5          Working   \n",
       "1               N          270000.0   1293502.5    State servant   \n",
       "2               Y           67500.0    135000.0          Working   \n",
       "3               Y          135000.0    312682.5          Working   \n",
       "4               Y          121500.0    513000.0          Working   \n",
       "\n",
       "             NAME_EDUCATION_TYPE    NAME_FAMILY_STATUS  NAME_HOUSING_TYPE  \n",
       "0  Secondary / secondary special  Single / not married  House / apartment  \n",
       "1               Higher education               Married  House / apartment  \n",
       "2  Secondary / secondary special  Single / not married  House / apartment  \n",
       "3  Secondary / secondary special        Civil marriage  House / apartment  \n",
       "4  Secondary / secondary special  Single / not married  House / apartment  "
      ]
     },
     "execution_count": 26,
     "metadata": {},
     "output_type": "execute_result"
    }
   ],
   "source": [
    "df_train.head()"
   ]
  },
  {
   "cell_type": "code",
   "execution_count": 27,
   "metadata": {},
   "outputs": [],
   "source": [
    "df_train = df_train.drop(['SK_ID_CURR'], axis = 1)"
   ]
  },
  {
   "cell_type": "markdown",
   "metadata": {},
   "source": [
    "# Fixing the Nan values in the Dataset"
   ]
  },
  {
   "cell_type": "code",
   "execution_count": 28,
   "metadata": {},
   "outputs": [],
   "source": [
    "import seaborn as sns"
   ]
  },
  {
   "cell_type": "code",
   "execution_count": 29,
   "metadata": {},
   "outputs": [
    {
     "data": {
      "text/plain": [
       "<matplotlib.axes._subplots.AxesSubplot at 0x26bc8365e80>"
      ]
     },
     "execution_count": 29,
     "metadata": {},
     "output_type": "execute_result"
    },
    {
     "data": {
      "image/png": "[encoded data removed]",
      "text/plain": [
       "<Figure size 432x288 with 1 Axes>"
      ]
     },
     "metadata": {
      "needs_background": "light"
     },
     "output_type": "display_data"
    }
   ],
   "source": [
    "sns.heatmap(df_train.isnull(), yticklabels=False , cbar = False)"
   ]
  },
  {
   "cell_type": "code",
   "execution_count": 30,
   "metadata": {},
   "outputs": [
    {
     "name": "stdout",
     "output_type": "stream",
     "text": [
      "<class 'pandas.core.frame.DataFrame'>\n",
      "RangeIndex: 19998 entries, 0 to 19997\n",
      "Data columns (total 11 columns):\n",
      "TARGET                 19998 non-null int64\n",
      "NAME_CONTRACT_TYPE     19998 non-null object\n",
      "CODE_GENDER            19998 non-null object\n",
      "FLAG_OWN_CAR           19998 non-null object\n",
      "FLAG_OWN_REALTY        19998 non-null object\n",
      "AMT_INCOME_TOTAL       19998 non-null float64\n",
      "AMT_CREDIT             19998 non-null float64\n",
      "NAME_INCOME_TYPE       19998 non-null object\n",
      "NAME_EDUCATION_TYPE    19998 non-null object\n",
      "NAME_FAMILY_STATUS     19998 non-null object\n",
      "NAME_HOUSING_TYPE      19998 non-null object\n",
      "dtypes: float64(2), int64(1), object(8)\n",
      "memory usage: 1.7+ MB\n"
     ]
    }
   ],
   "source": [
    "df_train.info()"
   ]
  },
  {
   "cell_type": "markdown",
   "metadata": {},
   "source": [
    "# Feature Engineering ---Handling Categorical Features"
   ]
  },
  {
   "cell_type": "code",
   "execution_count": 31,
   "metadata": {},
   "outputs": [],
   "source": [
    "df_train['FLAG_OWN_CAR'] = df_train['FLAG_OWN_CAR'].map(dict(Y=1,N=0))\n",
    "df_train['FLAG_OWN_REALTY'] = df_train['FLAG_OWN_REALTY'].map(dict(Y=1,N=0))"
   ]
  },
  {
   "cell_type": "code",
   "execution_count": 32,
   "metadata": {},
   "outputs": [
    {
     "data": {
      "text/html": [
       "<div>\n",
       "<style scoped>\n",
       "    .dataframe tbody tr th:only-of-type {\n",
       "        vertical-align: middle;\n",
       "    }\n",
       "\n",
       "    .dataframe tbody tr th {\n",
       "        vertical-align: top;\n",
       "    }\n",
       "\n",
       "    .dataframe thead th {\n",
       "        text-align: right;\n",
       "    }\n",
       "</style>\n",
       "<table border=\"1\" class=\"dataframe\">\n",
       "  <thead>\n",
       "    <tr style=\"text-align: right;\">\n",
       "      <th></th>\n",
       "      <th>TARGET</th>\n",
       "      <th>NAME_CONTRACT_TYPE</th>\n",
       "      <th>CODE_GENDER</th>\n",
       "      <th>FLAG_OWN_CAR</th>\n",
       "      <th>FLAG_OWN_REALTY</th>\n",
       "      <th>AMT_INCOME_TOTAL</th>\n",
       "      <th>AMT_CREDIT</th>\n",
       "      <th>NAME_INCOME_TYPE</th>\n",
       "      <th>NAME_EDUCATION_TYPE</th>\n",
       "      <th>NAME_FAMILY_STATUS</th>\n",
       "      <th>NAME_HOUSING_TYPE</th>\n",
       "    </tr>\n",
       "  </thead>\n",
       "  <tbody>\n",
       "    <tr>\n",
       "      <th>0</th>\n",
       "      <td>1</td>\n",
       "      <td>Cash loans</td>\n",
       "      <td>M</td>\n",
       "      <td>0</td>\n",
       "      <td>1</td>\n",
       "      <td>202500.0</td>\n",
       "      <td>406597.5</td>\n",
       "      <td>Working</td>\n",
       "      <td>Secondary / secondary special</td>\n",
       "      <td>Single / not married</td>\n",
       "      <td>House / apartment</td>\n",
       "    </tr>\n",
       "    <tr>\n",
       "      <th>1</th>\n",
       "      <td>0</td>\n",
       "      <td>Cash loans</td>\n",
       "      <td>F</td>\n",
       "      <td>0</td>\n",
       "      <td>0</td>\n",
       "      <td>270000.0</td>\n",
       "      <td>1293502.5</td>\n",
       "      <td>State servant</td>\n",
       "      <td>Higher education</td>\n",
       "      <td>Married</td>\n",
       "      <td>House / apartment</td>\n",
       "    </tr>\n",
       "    <tr>\n",
       "      <th>2</th>\n",
       "      <td>0</td>\n",
       "      <td>Revolving loans</td>\n",
       "      <td>M</td>\n",
       "      <td>1</td>\n",
       "      <td>1</td>\n",
       "      <td>67500.0</td>\n",
       "      <td>135000.0</td>\n",
       "      <td>Working</td>\n",
       "      <td>Secondary / secondary special</td>\n",
       "      <td>Single / not married</td>\n",
       "      <td>House / apartment</td>\n",
       "    </tr>\n",
       "    <tr>\n",
       "      <th>3</th>\n",
       "      <td>0</td>\n",
       "      <td>Cash loans</td>\n",
       "      <td>F</td>\n",
       "      <td>0</td>\n",
       "      <td>1</td>\n",
       "      <td>135000.0</td>\n",
       "      <td>312682.5</td>\n",
       "      <td>Working</td>\n",
       "      <td>Secondary / secondary special</td>\n",
       "      <td>Civil marriage</td>\n",
       "      <td>House / apartment</td>\n",
       "    </tr>\n",
       "    <tr>\n",
       "      <th>4</th>\n",
       "      <td>0</td>\n",
       "      <td>Cash loans</td>\n",
       "      <td>M</td>\n",
       "      <td>0</td>\n",
       "      <td>1</td>\n",
       "      <td>121500.0</td>\n",
       "      <td>513000.0</td>\n",
       "      <td>Working</td>\n",
       "      <td>Secondary / secondary special</td>\n",
       "      <td>Single / not married</td>\n",
       "      <td>House / apartment</td>\n",
       "    </tr>\n",
       "  </tbody>\n",
       "</table>\n",
       "</div>"
      ],
      "text/plain": [
       "   TARGET NAME_CONTRACT_TYPE CODE_GENDER  FLAG_OWN_CAR  FLAG_OWN_REALTY  \\\n",
       "0       1         Cash loans           M             0                1   \n",
       "1       0         Cash loans           F             0                0   \n",
       "2       0    Revolving loans           M             1                1   \n",
       "3       0         Cash loans           F             0                1   \n",
       "4       0         Cash loans           M             0                1   \n",
       "\n",
       "   AMT_INCOME_TOTAL  AMT_CREDIT NAME_INCOME_TYPE  \\\n",
       "0          202500.0    406597.5          Working   \n",
       "1          270000.0   1293502.5    State servant   \n",
       "2           67500.0    135000.0          Working   \n",
       "3          135000.0    312682.5          Working   \n",
       "4          121500.0    513000.0          Working   \n",
       "\n",
       "             NAME_EDUCATION_TYPE    NAME_FAMILY_STATUS  NAME_HOUSING_TYPE  \n",
       "0  Secondary / secondary special  Single / not married  House / apartment  \n",
       "1               Higher education               Married  House / apartment  \n",
       "2  Secondary / secondary special  Single / not married  House / apartment  \n",
       "3  Secondary / secondary special        Civil marriage  House / apartment  \n",
       "4  Secondary / secondary special  Single / not married  House / apartment  "
      ]
     },
     "execution_count": 32,
     "metadata": {},
     "output_type": "execute_result"
    }
   ],
   "source": [
    "df_train.head()"
   ]
  },
  {
   "cell_type": "code",
   "execution_count": 33,
   "metadata": {},
   "outputs": [
    {
     "data": {
      "text/html": [
       "<div>\n",
       "<style scoped>\n",
       "    .dataframe tbody tr th:only-of-type {\n",
       "        vertical-align: middle;\n",
       "    }\n",
       "\n",
       "    .dataframe tbody tr th {\n",
       "        vertical-align: top;\n",
       "    }\n",
       "\n",
       "    .dataframe thead th {\n",
       "        text-align: right;\n",
       "    }\n",
       "</style>\n",
       "<table border=\"1\" class=\"dataframe\">\n",
       "  <thead>\n",
       "    <tr style=\"text-align: right;\">\n",
       "      <th></th>\n",
       "      <th>AMT_CREDIT</th>\n",
       "      <th>AMT_INCOME_TOTAL</th>\n",
       "      <th>CODE_GENDER=F</th>\n",
       "      <th>CODE_GENDER=M</th>\n",
       "      <th>FLAG_OWN_CAR</th>\n",
       "      <th>FLAG_OWN_REALTY</th>\n",
       "      <th>NAME_CONTRACT_TYPE=Cash loans</th>\n",
       "      <th>NAME_CONTRACT_TYPE=Revolving loans</th>\n",
       "      <th>NAME_EDUCATION_TYPE=Academic degree</th>\n",
       "      <th>NAME_EDUCATION_TYPE=Higher education</th>\n",
       "      <th>...</th>\n",
       "      <th>NAME_HOUSING_TYPE=Office apartment</th>\n",
       "      <th>NAME_HOUSING_TYPE=Rented apartment</th>\n",
       "      <th>NAME_HOUSING_TYPE=With parents</th>\n",
       "      <th>NAME_INCOME_TYPE=Commercial associate</th>\n",
       "      <th>NAME_INCOME_TYPE=Pensioner</th>\n",
       "      <th>NAME_INCOME_TYPE=State servant</th>\n",
       "      <th>NAME_INCOME_TYPE=Student</th>\n",
       "      <th>NAME_INCOME_TYPE=Unemployed</th>\n",
       "      <th>NAME_INCOME_TYPE=Working</th>\n",
       "      <th>TARGET</th>\n",
       "    </tr>\n",
       "  </thead>\n",
       "  <tbody>\n",
       "    <tr>\n",
       "      <th>0</th>\n",
       "      <td>406597</td>\n",
       "      <td>202500</td>\n",
       "      <td>0</td>\n",
       "      <td>1</td>\n",
       "      <td>0</td>\n",
       "      <td>1</td>\n",
       "      <td>1</td>\n",
       "      <td>0</td>\n",
       "      <td>0</td>\n",
       "      <td>0</td>\n",
       "      <td>...</td>\n",
       "      <td>0</td>\n",
       "      <td>0</td>\n",
       "      <td>0</td>\n",
       "      <td>0</td>\n",
       "      <td>0</td>\n",
       "      <td>0</td>\n",
       "      <td>0</td>\n",
       "      <td>0</td>\n",
       "      <td>1</td>\n",
       "      <td>1</td>\n",
       "    </tr>\n",
       "    <tr>\n",
       "      <th>1</th>\n",
       "      <td>1293502</td>\n",
       "      <td>270000</td>\n",
       "      <td>1</td>\n",
       "      <td>0</td>\n",
       "      <td>0</td>\n",
       "      <td>0</td>\n",
       "      <td>1</td>\n",
       "      <td>0</td>\n",
       "      <td>0</td>\n",
       "      <td>1</td>\n",
       "      <td>...</td>\n",
       "      <td>0</td>\n",
       "      <td>0</td>\n",
       "      <td>0</td>\n",
       "      <td>0</td>\n",
       "      <td>0</td>\n",
       "      <td>1</td>\n",
       "      <td>0</td>\n",
       "      <td>0</td>\n",
       "      <td>0</td>\n",
       "      <td>0</td>\n",
       "    </tr>\n",
       "    <tr>\n",
       "      <th>2</th>\n",
       "      <td>135000</td>\n",
       "      <td>67500</td>\n",
       "      <td>0</td>\n",
       "      <td>1</td>\n",
       "      <td>1</td>\n",
       "      <td>1</td>\n",
       "      <td>0</td>\n",
       "      <td>1</td>\n",
       "      <td>0</td>\n",
       "      <td>0</td>\n",
       "      <td>...</td>\n",
       "      <td>0</td>\n",
       "      <td>0</td>\n",
       "      <td>0</td>\n",
       "      <td>0</td>\n",
       "      <td>0</td>\n",
       "      <td>0</td>\n",
       "      <td>0</td>\n",
       "      <td>0</td>\n",
       "      <td>1</td>\n",
       "      <td>0</td>\n",
       "    </tr>\n",
       "    <tr>\n",
       "      <th>3</th>\n",
       "      <td>312682</td>\n",
       "      <td>135000</td>\n",
       "      <td>1</td>\n",
       "      <td>0</td>\n",
       "      <td>0</td>\n",
       "      <td>1</td>\n",
       "      <td>1</td>\n",
       "      <td>0</td>\n",
       "      <td>0</td>\n",
       "      <td>0</td>\n",
       "      <td>...</td>\n",
       "      <td>0</td>\n",
       "      <td>0</td>\n",
       "      <td>0</td>\n",
       "      <td>0</td>\n",
       "      <td>0</td>\n",
       "      <td>0</td>\n",
       "      <td>0</td>\n",
       "      <td>0</td>\n",
       "      <td>1</td>\n",
       "      <td>0</td>\n",
       "    </tr>\n",
       "    <tr>\n",
       "      <th>4</th>\n",
       "      <td>513000</td>\n",
       "      <td>121500</td>\n",
       "      <td>0</td>\n",
       "      <td>1</td>\n",
       "      <td>0</td>\n",
       "      <td>1</td>\n",
       "      <td>1</td>\n",
       "      <td>0</td>\n",
       "      <td>0</td>\n",
       "      <td>0</td>\n",
       "      <td>...</td>\n",
       "      <td>0</td>\n",
       "      <td>0</td>\n",
       "      <td>0</td>\n",
       "      <td>0</td>\n",
       "      <td>0</td>\n",
       "      <td>0</td>\n",
       "      <td>0</td>\n",
       "      <td>0</td>\n",
       "      <td>1</td>\n",
       "      <td>0</td>\n",
       "    </tr>\n",
       "  </tbody>\n",
       "</table>\n",
       "<p>5 rows × 31 columns</p>\n",
       "</div>"
      ],
      "text/plain": [
       "   AMT_CREDIT  AMT_INCOME_TOTAL  CODE_GENDER=F  CODE_GENDER=M  FLAG_OWN_CAR  \\\n",
       "0      406597            202500              0              1             0   \n",
       "1     1293502            270000              1              0             0   \n",
       "2      135000             67500              0              1             1   \n",
       "3      312682            135000              1              0             0   \n",
       "4      513000            121500              0              1             0   \n",
       "\n",
       "   FLAG_OWN_REALTY  NAME_CONTRACT_TYPE=Cash loans  \\\n",
       "0                1                              1   \n",
       "1                0                              1   \n",
       "2                1                              0   \n",
       "3                1                              1   \n",
       "4                1                              1   \n",
       "\n",
       "   NAME_CONTRACT_TYPE=Revolving loans  NAME_EDUCATION_TYPE=Academic degree  \\\n",
       "0                                   0                                    0   \n",
       "1                                   0                                    0   \n",
       "2                                   1                                    0   \n",
       "3                                   0                                    0   \n",
       "4                                   0                                    0   \n",
       "\n",
       "   NAME_EDUCATION_TYPE=Higher education  ...  \\\n",
       "0                                     0  ...   \n",
       "1                                     1  ...   \n",
       "2                                     0  ...   \n",
       "3                                     0  ...   \n",
       "4                                     0  ...   \n",
       "\n",
       "   NAME_HOUSING_TYPE=Office apartment  NAME_HOUSING_TYPE=Rented apartment  \\\n",
       "0                                   0                                   0   \n",
       "1                                   0                                   0   \n",
       "2                                   0                                   0   \n",
       "3                                   0                                   0   \n",
       "4                                   0                                   0   \n",
       "\n",
       "   NAME_HOUSING_TYPE=With parents  NAME_INCOME_TYPE=Commercial associate  \\\n",
       "0                               0                                      0   \n",
       "1                               0                                      0   \n",
       "2                               0                                      0   \n",
       "3                               0                                      0   \n",
       "4                               0                                      0   \n",
       "\n",
       "   NAME_INCOME_TYPE=Pensioner  NAME_INCOME_TYPE=State servant  \\\n",
       "0                           0                               0   \n",
       "1                           0                               1   \n",
       "2                           0                               0   \n",
       "3                           0                               0   \n",
       "4                           0                               0   \n",
       "\n",
       "   NAME_INCOME_TYPE=Student  NAME_INCOME_TYPE=Unemployed  \\\n",
       "0                         0                            0   \n",
       "1                         0                            0   \n",
       "2                         0                            0   \n",
       "3                         0                            0   \n",
       "4                         0                            0   \n",
       "\n",
       "   NAME_INCOME_TYPE=Working  TARGET  \n",
       "0                         1       1  \n",
       "1                         0       0  \n",
       "2                         1       0  \n",
       "3                         1       0  \n",
       "4                         1       0  \n",
       "\n",
       "[5 rows x 31 columns]"
      ]
     },
     "execution_count": 33,
     "metadata": {},
     "output_type": "execute_result"
    }
   ],
   "source": [
    "from sklearn.feature_extraction import DictVectorizer\n",
    "vec = DictVectorizer(sparse = False , dtype = int)\n",
    "dt11 = df_train.T.to_dict().values()\n",
    "nd = vec.fit_transform(dt11)\n",
    "df_train = pd.DataFrame(nd,columns = vec.get_feature_names())\n",
    "df_train.head()"
   ]
  },
  {
   "cell_type": "code",
   "execution_count": 34,
   "metadata": {},
   "outputs": [
    {
     "data": {
      "text/plain": [
       "Index(['AMT_CREDIT', 'AMT_INCOME_TOTAL', 'CODE_GENDER=F', 'CODE_GENDER=M',\n",
       "       'FLAG_OWN_CAR', 'FLAG_OWN_REALTY', 'NAME_CONTRACT_TYPE=Cash loans',\n",
       "       'NAME_CONTRACT_TYPE=Revolving loans',\n",
       "       'NAME_EDUCATION_TYPE=Academic degree',\n",
       "       'NAME_EDUCATION_TYPE=Higher education',\n",
       "       'NAME_EDUCATION_TYPE=Incomplete higher',\n",
       "       'NAME_EDUCATION_TYPE=Lower secondary',\n",
       "       'NAME_EDUCATION_TYPE=Secondary / secondary special',\n",
       "       'NAME_FAMILY_STATUS=Civil marriage', 'NAME_FAMILY_STATUS=Married',\n",
       "       'NAME_FAMILY_STATUS=Separated',\n",
       "       'NAME_FAMILY_STATUS=Single / not married', 'NAME_FAMILY_STATUS=Widow',\n",
       "       'NAME_HOUSING_TYPE=Co-op apartment',\n",
       "       'NAME_HOUSING_TYPE=House / apartment',\n",
       "       'NAME_HOUSING_TYPE=Municipal apartment',\n",
       "       'NAME_HOUSING_TYPE=Office apartment',\n",
       "       'NAME_HOUSING_TYPE=Rented apartment', 'NAME_HOUSING_TYPE=With parents',\n",
       "       'NAME_INCOME_TYPE=Commercial associate', 'NAME_INCOME_TYPE=Pensioner',\n",
       "       'NAME_INCOME_TYPE=State servant', 'NAME_INCOME_TYPE=Student',\n",
       "       'NAME_INCOME_TYPE=Unemployed', 'NAME_INCOME_TYPE=Working', 'TARGET'],\n",
       "      dtype='object')"
      ]
     },
     "execution_count": 34,
     "metadata": {},
     "output_type": "execute_result"
    }
   ],
   "source": [
    "df_train.columns"
   ]
  },
  {
   "cell_type": "markdown",
   "metadata": {},
   "source": [
    "# Feature Engineering --Handling Imbalanced Dataset"
   ]
  },
  {
   "cell_type": "code",
   "execution_count": 35,
   "metadata": {},
   "outputs": [
    {
     "data": {
      "text/plain": [
       "0    18420\n",
       "1     1578\n",
       "Name: TARGET, dtype: int64"
      ]
     },
     "execution_count": 35,
     "metadata": {},
     "output_type": "execute_result"
    }
   ],
   "source": [
    "df_train['TARGET'].value_counts()"
   ]
  },
  {
   "cell_type": "code",
   "execution_count": 36,
   "metadata": {},
   "outputs": [],
   "source": [
    "from sklearn.utils import resample"
   ]
  },
  {
   "cell_type": "code",
   "execution_count": 37,
   "metadata": {},
   "outputs": [
    {
     "data": {
      "text/plain": [
       "1    18420\n",
       "0    18420\n",
       "Name: TARGET, dtype: int64"
      ]
     },
     "execution_count": 37,
     "metadata": {},
     "output_type": "execute_result"
    }
   ],
   "source": [
    "#seperate majority and minority class\n",
    "df_majority = df_train[df_train.TARGET == 0]\n",
    "df_minority = df_train[df_train.TARGET == 1]\n",
    "\n",
    "#Upsample the minority class\n",
    "df_minority_upsampled = resample(df_minority,\n",
    "                                replace =True,\n",
    "                                n_samples =18420,\n",
    "                                random_state = 123)\n",
    "#Combine majority class with upsampled minority class\n",
    "df_upsampled = pd.concat([df_majority ,df_minority_upsampled])\n",
    "\n",
    "#Display the new class counts\n",
    "df_upsampled.TARGET.value_counts()"
   ]
  },
  {
   "cell_type": "markdown",
   "metadata": {},
   "source": [
    "# Scaling the Data"
   ]
  },
  {
   "cell_type": "code",
   "execution_count": 38,
   "metadata": {},
   "outputs": [],
   "source": [
    "from sklearn.preprocessing import StandardScaler"
   ]
  },
  {
   "cell_type": "code",
   "execution_count": 39,
   "metadata": {},
   "outputs": [],
   "source": [
    "df_test = df_upsampled.TARGET\n",
    "df_train = df_upsampled.drop('TARGET' , axis = 1)"
   ]
  },
  {
   "cell_type": "code",
   "execution_count": 40,
   "metadata": {},
   "outputs": [
    {
     "name": "stderr",
     "output_type": "stream",
     "text": [
      "C:\\ProgramData\\Anaconda3\\lib\\site-packages\\sklearn\\preprocessing\\data.py:645: DataConversionWarning: Data with input dtype int32 were all converted to float64 by StandardScaler.\n",
      "  return self.partial_fit(X, y)\n"
     ]
    },
    {
     "data": {
      "text/plain": [
       "StandardScaler(copy=True, with_mean=True, with_std=True)"
      ]
     },
     "execution_count": 40,
     "metadata": {},
     "output_type": "execute_result"
    }
   ],
   "source": [
    "scaler = StandardScaler()\n",
    "scaler.fit(df_train)"
   ]
  },
  {
   "cell_type": "code",
   "execution_count": 41,
   "metadata": {},
   "outputs": [
    {
     "name": "stderr",
     "output_type": "stream",
     "text": [
      "C:\\ProgramData\\Anaconda3\\lib\\site-packages\\ipykernel_launcher.py:1: DataConversionWarning: Data with input dtype int32 were all converted to float64 by StandardScaler.\n",
      "  \"\"\"Entry point for launching an IPython kernel.\n"
     ]
    }
   ],
   "source": [
    "scaled_data = scaler.transform(df_train)"
   ]
  },
  {
   "cell_type": "code",
   "execution_count": 45,
   "metadata": {},
   "outputs": [
    {
     "data": {
      "text/html": [
       "<div>\n",
       "<style scoped>\n",
       "    .dataframe tbody tr th:only-of-type {\n",
       "        vertical-align: middle;\n",
       "    }\n",
       "\n",
       "    .dataframe tbody tr th {\n",
       "        vertical-align: top;\n",
       "    }\n",
       "\n",
       "    .dataframe thead th {\n",
       "        text-align: right;\n",
       "    }\n",
       "</style>\n",
       "<table border=\"1\" class=\"dataframe\">\n",
       "  <thead>\n",
       "    <tr style=\"text-align: right;\">\n",
       "      <th></th>\n",
       "      <th>0</th>\n",
       "      <th>1</th>\n",
       "      <th>2</th>\n",
       "      <th>3</th>\n",
       "      <th>4</th>\n",
       "      <th>5</th>\n",
       "      <th>6</th>\n",
       "      <th>7</th>\n",
       "      <th>8</th>\n",
       "      <th>9</th>\n",
       "      <th>...</th>\n",
       "      <th>20</th>\n",
       "      <th>21</th>\n",
       "      <th>22</th>\n",
       "      <th>23</th>\n",
       "      <th>24</th>\n",
       "      <th>25</th>\n",
       "      <th>26</th>\n",
       "      <th>27</th>\n",
       "      <th>28</th>\n",
       "      <th>29</th>\n",
       "    </tr>\n",
       "  </thead>\n",
       "  <tbody>\n",
       "    <tr>\n",
       "      <th>0</th>\n",
       "      <td>1.908642</td>\n",
       "      <td>0.028363</td>\n",
       "      <td>0.795600</td>\n",
       "      <td>-0.795600</td>\n",
       "      <td>-0.706804</td>\n",
       "      <td>-1.490438</td>\n",
       "      <td>0.290391</td>\n",
       "      <td>-0.290391</td>\n",
       "      <td>-0.017282</td>\n",
       "      <td>1.977216</td>\n",
       "      <td>...</td>\n",
       "      <td>-0.196977</td>\n",
       "      <td>-0.083487</td>\n",
       "      <td>-0.134959</td>\n",
       "      <td>-0.250425</td>\n",
       "      <td>-0.53718</td>\n",
       "      <td>-0.423566</td>\n",
       "      <td>4.087975</td>\n",
       "      <td>-0.007368</td>\n",
       "      <td>-0.007368</td>\n",
       "      <td>-1.145189</td>\n",
       "    </tr>\n",
       "    <tr>\n",
       "      <th>1</th>\n",
       "      <td>-1.192285</td>\n",
       "      <td>-0.063838</td>\n",
       "      <td>-1.256914</td>\n",
       "      <td>1.256914</td>\n",
       "      <td>1.414818</td>\n",
       "      <td>0.670944</td>\n",
       "      <td>-3.443637</td>\n",
       "      <td>3.443637</td>\n",
       "      <td>-0.017282</td>\n",
       "      <td>-0.505762</td>\n",
       "      <td>...</td>\n",
       "      <td>-0.196977</td>\n",
       "      <td>-0.083487</td>\n",
       "      <td>-0.134959</td>\n",
       "      <td>-0.250425</td>\n",
       "      <td>-0.53718</td>\n",
       "      <td>-0.423566</td>\n",
       "      <td>-0.244620</td>\n",
       "      <td>-0.007368</td>\n",
       "      <td>-0.007368</td>\n",
       "      <td>0.873219</td>\n",
       "    </tr>\n",
       "    <tr>\n",
       "      <th>2</th>\n",
       "      <td>-0.716689</td>\n",
       "      <td>-0.033105</td>\n",
       "      <td>0.795600</td>\n",
       "      <td>-0.795600</td>\n",
       "      <td>-0.706804</td>\n",
       "      <td>0.670944</td>\n",
       "      <td>0.290391</td>\n",
       "      <td>-0.290391</td>\n",
       "      <td>-0.017282</td>\n",
       "      <td>-0.505762</td>\n",
       "      <td>...</td>\n",
       "      <td>-0.196977</td>\n",
       "      <td>-0.083487</td>\n",
       "      <td>-0.134959</td>\n",
       "      <td>-0.250425</td>\n",
       "      <td>-0.53718</td>\n",
       "      <td>-0.423566</td>\n",
       "      <td>-0.244620</td>\n",
       "      <td>-0.007368</td>\n",
       "      <td>-0.007368</td>\n",
       "      <td>0.873219</td>\n",
       "    </tr>\n",
       "    <tr>\n",
       "      <th>3</th>\n",
       "      <td>-0.180504</td>\n",
       "      <td>-0.039252</td>\n",
       "      <td>-1.256914</td>\n",
       "      <td>1.256914</td>\n",
       "      <td>-0.706804</td>\n",
       "      <td>0.670944</td>\n",
       "      <td>0.290391</td>\n",
       "      <td>-0.290391</td>\n",
       "      <td>-0.017282</td>\n",
       "      <td>-0.505762</td>\n",
       "      <td>...</td>\n",
       "      <td>-0.196977</td>\n",
       "      <td>-0.083487</td>\n",
       "      <td>-0.134959</td>\n",
       "      <td>-0.250425</td>\n",
       "      <td>-0.53718</td>\n",
       "      <td>-0.423566</td>\n",
       "      <td>-0.244620</td>\n",
       "      <td>-0.007368</td>\n",
       "      <td>-0.007368</td>\n",
       "      <td>0.873219</td>\n",
       "    </tr>\n",
       "    <tr>\n",
       "      <th>4</th>\n",
       "      <td>-0.240742</td>\n",
       "      <td>-0.049496</td>\n",
       "      <td>-1.256914</td>\n",
       "      <td>1.256914</td>\n",
       "      <td>-0.706804</td>\n",
       "      <td>0.670944</td>\n",
       "      <td>0.290391</td>\n",
       "      <td>-0.290391</td>\n",
       "      <td>-0.017282</td>\n",
       "      <td>-0.505762</td>\n",
       "      <td>...</td>\n",
       "      <td>-0.196977</td>\n",
       "      <td>-0.083487</td>\n",
       "      <td>-0.134959</td>\n",
       "      <td>-0.250425</td>\n",
       "      <td>-0.53718</td>\n",
       "      <td>-0.423566</td>\n",
       "      <td>4.087975</td>\n",
       "      <td>-0.007368</td>\n",
       "      <td>-0.007368</td>\n",
       "      <td>-1.145189</td>\n",
       "    </tr>\n",
       "  </tbody>\n",
       "</table>\n",
       "<p>5 rows × 30 columns</p>\n",
       "</div>"
      ],
      "text/plain": [
       "         0         1         2         3         4         5         6   \\\n",
       "0  1.908642  0.028363  0.795600 -0.795600 -0.706804 -1.490438  0.290391   \n",
       "1 -1.192285 -0.063838 -1.256914  1.256914  1.414818  0.670944 -3.443637   \n",
       "2 -0.716689 -0.033105  0.795600 -0.795600 -0.706804  0.670944  0.290391   \n",
       "3 -0.180504 -0.039252 -1.256914  1.256914 -0.706804  0.670944  0.290391   \n",
       "4 -0.240742 -0.049496 -1.256914  1.256914 -0.706804  0.670944  0.290391   \n",
       "\n",
       "         7         8         9   ...        20        21        22        23  \\\n",
       "0 -0.290391 -0.017282  1.977216  ... -0.196977 -0.083487 -0.134959 -0.250425   \n",
       "1  3.443637 -0.017282 -0.505762  ... -0.196977 -0.083487 -0.134959 -0.250425   \n",
       "2 -0.290391 -0.017282 -0.505762  ... -0.196977 -0.083487 -0.134959 -0.250425   \n",
       "3 -0.290391 -0.017282 -0.505762  ... -0.196977 -0.083487 -0.134959 -0.250425   \n",
       "4 -0.290391 -0.017282 -0.505762  ... -0.196977 -0.083487 -0.134959 -0.250425   \n",
       "\n",
       "        24        25        26        27        28        29  \n",
       "0 -0.53718 -0.423566  4.087975 -0.007368 -0.007368 -1.145189  \n",
       "1 -0.53718 -0.423566 -0.244620 -0.007368 -0.007368  0.873219  \n",
       "2 -0.53718 -0.423566 -0.244620 -0.007368 -0.007368  0.873219  \n",
       "3 -0.53718 -0.423566 -0.244620 -0.007368 -0.007368  0.873219  \n",
       "4 -0.53718 -0.423566  4.087975 -0.007368 -0.007368 -1.145189  \n",
       "\n",
       "[5 rows x 30 columns]"
      ]
     },
     "execution_count": 45,
     "metadata": {},
     "output_type": "execute_result"
    }
   ],
   "source": [
    "df_scale = pd.DataFrame(scaled_data)\n",
    "df_scale.head()"
   ]
  },
  {
   "cell_type": "markdown",
   "metadata": {},
   "source": [
    "# Dimension Reduction Technique --PCA"
   ]
  },
  {
   "cell_type": "code",
   "execution_count": 46,
   "metadata": {},
   "outputs": [],
   "source": [
    "from sklearn.decomposition import PCA"
   ]
  },
  {
   "cell_type": "code",
   "execution_count": 47,
   "metadata": {},
   "outputs": [],
   "source": [
    "pca = PCA(n_components = 2)"
   ]
  },
  {
   "cell_type": "code",
   "execution_count": 48,
   "metadata": {},
   "outputs": [
    {
     "data": {
      "text/plain": [
       "PCA(copy=True, iterated_power='auto', n_components=2, random_state=None,\n",
       "  svd_solver='auto', tol=0.0, whiten=False)"
      ]
     },
     "execution_count": 48,
     "metadata": {},
     "output_type": "execute_result"
    }
   ],
   "source": [
    "pca.fit(scaled_data)"
   ]
  },
  {
   "cell_type": "code",
   "execution_count": 49,
   "metadata": {},
   "outputs": [],
   "source": [
    "x_pca = pca.transform(scaled_data)"
   ]
  },
  {
   "cell_type": "code",
   "execution_count": 50,
   "metadata": {},
   "outputs": [
    {
     "data": {
      "image/png": "[encoded data removed]",
      "text/plain": [
       "<Figure size 576x432 with 1 Axes>"
      ]
     },
     "metadata": {
      "needs_background": "light"
     },
     "output_type": "display_data"
    }
   ],
   "source": [
    "plt.figure(figsize=(8,6))\n",
    "plt.scatter(x_pca[:,0],x_pca[:,1],c=df_upsampled['TARGET'],cmap='plasma')\n",
    "plt.xlabel('First principal component')\n",
    "plt.ylabel('Second Principal Component')\n",
    "plt.show()"
   ]
  },
  {
   "cell_type": "markdown",
   "metadata": {},
   "source": [
    "# Feature Selection - Univariate Selection"
   ]
  },
  {
   "cell_type": "code",
   "execution_count": 68,
   "metadata": {},
   "outputs": [],
   "source": [
    "from sklearn.feature_selection import SelectKBest\n",
    "from sklearn.feature_selection import chi2\n",
    "from sklearn.model_selection import train_test_split"
   ]
  },
  {
   "cell_type": "code",
   "execution_count": 69,
   "metadata": {},
   "outputs": [],
   "source": [
    "Xtrain , Xtest,ytrain ,ytest = train_test_split(df_train,df_test,random_state = 1)"
   ]
  },
  {
   "cell_type": "code",
   "execution_count": 70,
   "metadata": {},
   "outputs": [],
   "source": [
    "#apply SelectKBest class to extract top 10 best features\n",
    "bestfeatures = SelectKBest(score_func=chi2, k=10)\n",
    "fit = bestfeatures.fit(Xtrain,ytrain)"
   ]
  },
  {
   "cell_type": "code",
   "execution_count": 71,
   "metadata": {},
   "outputs": [],
   "source": [
    "dfscores = pd.DataFrame(fit.scores_)\n",
    "dfcolumns = pd.DataFrame(Xtrain.columns)"
   ]
  },
  {
   "cell_type": "code",
   "execution_count": 72,
   "metadata": {},
   "outputs": [],
   "source": [
    "#concat two dataframes for better visualization \n",
    "featureScores = pd.concat([dfcolumns,dfscores],axis=1)\n",
    "featureScores.columns = ['Specs','Score']  #naming the dataframe columns"
   ]
  },
  {
   "cell_type": "code",
   "execution_count": 73,
   "metadata": {},
   "outputs": [
    {
     "data": {
      "text/html": [
       "<div>\n",
       "<style scoped>\n",
       "    .dataframe tbody tr th:only-of-type {\n",
       "        vertical-align: middle;\n",
       "    }\n",
       "\n",
       "    .dataframe tbody tr th {\n",
       "        vertical-align: top;\n",
       "    }\n",
       "\n",
       "    .dataframe thead th {\n",
       "        text-align: right;\n",
       "    }\n",
       "</style>\n",
       "<table border=\"1\" class=\"dataframe\">\n",
       "  <thead>\n",
       "    <tr style=\"text-align: right;\">\n",
       "      <th></th>\n",
       "      <th>Specs</th>\n",
       "      <th>Score</th>\n",
       "    </tr>\n",
       "  </thead>\n",
       "  <tbody>\n",
       "    <tr>\n",
       "      <th>0</th>\n",
       "      <td>AMT_CREDIT</td>\n",
       "      <td>-3.422416e+08</td>\n",
       "    </tr>\n",
       "    <tr>\n",
       "      <th>1</th>\n",
       "      <td>AMT_INCOME_TOTAL</td>\n",
       "      <td>1.346069e+10</td>\n",
       "    </tr>\n",
       "    <tr>\n",
       "      <th>2</th>\n",
       "      <td>CODE_GENDER=F</td>\n",
       "      <td>1.203926e+02</td>\n",
       "    </tr>\n",
       "    <tr>\n",
       "      <th>3</th>\n",
       "      <td>CODE_GENDER=M</td>\n",
       "      <td>1.923023e+02</td>\n",
       "    </tr>\n",
       "    <tr>\n",
       "      <th>4</th>\n",
       "      <td>FLAG_OWN_CAR</td>\n",
       "      <td>5.205321e+00</td>\n",
       "    </tr>\n",
       "    <tr>\n",
       "      <th>5</th>\n",
       "      <td>FLAG_OWN_REALTY</td>\n",
       "      <td>1.493732e+00</td>\n",
       "    </tr>\n",
       "    <tr>\n",
       "      <th>6</th>\n",
       "      <td>NAME_CONTRACT_TYPE=Cash loans</td>\n",
       "      <td>1.283879e+01</td>\n",
       "    </tr>\n",
       "    <tr>\n",
       "      <th>7</th>\n",
       "      <td>NAME_CONTRACT_TYPE=Revolving loans</td>\n",
       "      <td>1.558420e+02</td>\n",
       "    </tr>\n",
       "    <tr>\n",
       "      <th>8</th>\n",
       "      <td>NAME_EDUCATION_TYPE=Academic degree</td>\n",
       "      <td>7.036577e+00</td>\n",
       "    </tr>\n",
       "    <tr>\n",
       "      <th>9</th>\n",
       "      <td>NAME_EDUCATION_TYPE=Higher education</td>\n",
       "      <td>3.341575e+02</td>\n",
       "    </tr>\n",
       "    <tr>\n",
       "      <th>10</th>\n",
       "      <td>NAME_EDUCATION_TYPE=Incomplete higher</td>\n",
       "      <td>1.270051e+01</td>\n",
       "    </tr>\n",
       "    <tr>\n",
       "      <th>11</th>\n",
       "      <td>NAME_EDUCATION_TYPE=Lower secondary</td>\n",
       "      <td>5.541522e+00</td>\n",
       "    </tr>\n",
       "    <tr>\n",
       "      <th>12</th>\n",
       "      <td>NAME_EDUCATION_TYPE=Secondary / secondary special</td>\n",
       "      <td>7.057588e+01</td>\n",
       "    </tr>\n",
       "    <tr>\n",
       "      <th>13</th>\n",
       "      <td>NAME_FAMILY_STATUS=Civil marriage</td>\n",
       "      <td>1.751905e+01</td>\n",
       "    </tr>\n",
       "    <tr>\n",
       "      <th>14</th>\n",
       "      <td>NAME_FAMILY_STATUS=Married</td>\n",
       "      <td>2.829570e+01</td>\n",
       "    </tr>\n",
       "    <tr>\n",
       "      <th>15</th>\n",
       "      <td>NAME_FAMILY_STATUS=Separated</td>\n",
       "      <td>3.345429e+00</td>\n",
       "    </tr>\n",
       "    <tr>\n",
       "      <th>16</th>\n",
       "      <td>NAME_FAMILY_STATUS=Single / not married</td>\n",
       "      <td>6.792771e+01</td>\n",
       "    </tr>\n",
       "    <tr>\n",
       "      <th>17</th>\n",
       "      <td>NAME_FAMILY_STATUS=Widow</td>\n",
       "      <td>1.829479e+01</td>\n",
       "    </tr>\n",
       "    <tr>\n",
       "      <th>18</th>\n",
       "      <td>NAME_HOUSING_TYPE=Co-op apartment</td>\n",
       "      <td>1.168169e+00</td>\n",
       "    </tr>\n",
       "    <tr>\n",
       "      <th>19</th>\n",
       "      <td>NAME_HOUSING_TYPE=House / apartment</td>\n",
       "      <td>5.300597e+00</td>\n",
       "    </tr>\n",
       "    <tr>\n",
       "      <th>20</th>\n",
       "      <td>NAME_HOUSING_TYPE=Municipal apartment</td>\n",
       "      <td>4.127293e-04</td>\n",
       "    </tr>\n",
       "    <tr>\n",
       "      <th>21</th>\n",
       "      <td>NAME_HOUSING_TYPE=Office apartment</td>\n",
       "      <td>9.906097e+00</td>\n",
       "    </tr>\n",
       "    <tr>\n",
       "      <th>22</th>\n",
       "      <td>NAME_HOUSING_TYPE=Rented apartment</td>\n",
       "      <td>1.267715e+01</td>\n",
       "    </tr>\n",
       "    <tr>\n",
       "      <th>23</th>\n",
       "      <td>NAME_HOUSING_TYPE=With parents</td>\n",
       "      <td>6.825243e+01</td>\n",
       "    </tr>\n",
       "    <tr>\n",
       "      <th>24</th>\n",
       "      <td>NAME_INCOME_TYPE=Commercial associate</td>\n",
       "      <td>6.413106e+00</td>\n",
       "    </tr>\n",
       "    <tr>\n",
       "      <th>25</th>\n",
       "      <td>NAME_INCOME_TYPE=Pensioner</td>\n",
       "      <td>1.709322e+02</td>\n",
       "    </tr>\n",
       "    <tr>\n",
       "      <th>26</th>\n",
       "      <td>NAME_INCOME_TYPE=State servant</td>\n",
       "      <td>8.230269e+01</td>\n",
       "    </tr>\n",
       "    <tr>\n",
       "      <th>27</th>\n",
       "      <td>NAME_INCOME_TYPE=Student</td>\n",
       "      <td>2.010451e+00</td>\n",
       "    </tr>\n",
       "    <tr>\n",
       "      <th>28</th>\n",
       "      <td>NAME_INCOME_TYPE=Unemployed</td>\n",
       "      <td>2.010451e+00</td>\n",
       "    </tr>\n",
       "    <tr>\n",
       "      <th>29</th>\n",
       "      <td>NAME_INCOME_TYPE=Working</td>\n",
       "      <td>1.258556e+02</td>\n",
       "    </tr>\n",
       "  </tbody>\n",
       "</table>\n",
       "</div>"
      ],
      "text/plain": [
       "                                                Specs         Score\n",
       "0                                          AMT_CREDIT -3.422416e+08\n",
       "1                                    AMT_INCOME_TOTAL  1.346069e+10\n",
       "2                                       CODE_GENDER=F  1.203926e+02\n",
       "3                                       CODE_GENDER=M  1.923023e+02\n",
       "4                                        FLAG_OWN_CAR  5.205321e+00\n",
       "5                                     FLAG_OWN_REALTY  1.493732e+00\n",
       "6                       NAME_CONTRACT_TYPE=Cash loans  1.283879e+01\n",
       "7                  NAME_CONTRACT_TYPE=Revolving loans  1.558420e+02\n",
       "8                 NAME_EDUCATION_TYPE=Academic degree  7.036577e+00\n",
       "9                NAME_EDUCATION_TYPE=Higher education  3.341575e+02\n",
       "10              NAME_EDUCATION_TYPE=Incomplete higher  1.270051e+01\n",
       "11                NAME_EDUCATION_TYPE=Lower secondary  5.541522e+00\n",
       "12  NAME_EDUCATION_TYPE=Secondary / secondary special  7.057588e+01\n",
       "13                  NAME_FAMILY_STATUS=Civil marriage  1.751905e+01\n",
       "14                         NAME_FAMILY_STATUS=Married  2.829570e+01\n",
       "15                       NAME_FAMILY_STATUS=Separated  3.345429e+00\n",
       "16            NAME_FAMILY_STATUS=Single / not married  6.792771e+01\n",
       "17                           NAME_FAMILY_STATUS=Widow  1.829479e+01\n",
       "18                  NAME_HOUSING_TYPE=Co-op apartment  1.168169e+00\n",
       "19                NAME_HOUSING_TYPE=House / apartment  5.300597e+00\n",
       "20              NAME_HOUSING_TYPE=Municipal apartment  4.127293e-04\n",
       "21                 NAME_HOUSING_TYPE=Office apartment  9.906097e+00\n",
       "22                 NAME_HOUSING_TYPE=Rented apartment  1.267715e+01\n",
       "23                     NAME_HOUSING_TYPE=With parents  6.825243e+01\n",
       "24              NAME_INCOME_TYPE=Commercial associate  6.413106e+00\n",
       "25                         NAME_INCOME_TYPE=Pensioner  1.709322e+02\n",
       "26                     NAME_INCOME_TYPE=State servant  8.230269e+01\n",
       "27                           NAME_INCOME_TYPE=Student  2.010451e+00\n",
       "28                        NAME_INCOME_TYPE=Unemployed  2.010451e+00\n",
       "29                           NAME_INCOME_TYPE=Working  1.258556e+02"
      ]
     },
     "execution_count": 73,
     "metadata": {},
     "output_type": "execute_result"
    }
   ],
   "source": [
    "featureScores"
   ]
  },
  {
   "cell_type": "code",
   "execution_count": 74,
   "metadata": {},
   "outputs": [
    {
     "name": "stdout",
     "output_type": "stream",
     "text": [
      "                                                Specs         Score\n",
      "1                                    AMT_INCOME_TOTAL  1.346069e+10\n",
      "9                NAME_EDUCATION_TYPE=Higher education  3.341575e+02\n",
      "3                                       CODE_GENDER=M  1.923023e+02\n",
      "25                         NAME_INCOME_TYPE=Pensioner  1.709322e+02\n",
      "7                  NAME_CONTRACT_TYPE=Revolving loans  1.558420e+02\n",
      "29                           NAME_INCOME_TYPE=Working  1.258556e+02\n",
      "2                                       CODE_GENDER=F  1.203926e+02\n",
      "26                     NAME_INCOME_TYPE=State servant  8.230269e+01\n",
      "12  NAME_EDUCATION_TYPE=Secondary / secondary special  7.057588e+01\n",
      "23                     NAME_HOUSING_TYPE=With parents  6.825243e+01\n"
     ]
    }
   ],
   "source": [
    "print(featureScores.nlargest(10,'Score'))  #print 10 best features"
   ]
  },
  {
   "cell_type": "markdown",
   "metadata": {},
   "source": [
    "# Feature Importance"
   ]
  },
  {
   "cell_type": "code",
   "execution_count": 75,
   "metadata": {},
   "outputs": [
    {
     "name": "stderr",
     "output_type": "stream",
     "text": [
      "C:\\ProgramData\\Anaconda3\\lib\\site-packages\\sklearn\\ensemble\\forest.py:246: FutureWarning: The default value of n_estimators will change from 10 in version 0.20 to 100 in 0.22.\n",
      "  \"10 in version 0.20 to 100 in 0.22.\", FutureWarning)\n"
     ]
    },
    {
     "data": {
      "text/plain": [
       "ExtraTreesClassifier(bootstrap=False, class_weight=None, criterion='gini',\n",
       "           max_depth=None, max_features='auto', max_leaf_nodes=None,\n",
       "           min_impurity_decrease=0.0, min_impurity_split=None,\n",
       "           min_samples_leaf=1, min_samples_split=2,\n",
       "           min_weight_fraction_leaf=0.0, n_estimators=10, n_jobs=None,\n",
       "           oob_score=False, random_state=None, verbose=0, warm_start=False)"
      ]
     },
     "execution_count": 75,
     "metadata": {},
     "output_type": "execute_result"
    }
   ],
   "source": [
    "from sklearn.ensemble import ExtraTreesClassifier\n",
    "import matplotlib.pyplot as plt\n",
    "model = ExtraTreesClassifier()\n",
    "model.fit(Xtrain,ytrain)"
   ]
  },
  {
   "cell_type": "code",
   "execution_count": 76,
   "metadata": {},
   "outputs": [
    {
     "name": "stdout",
     "output_type": "stream",
     "text": [
      "[4.55673211e-01 3.26209332e-01 6.35139091e-03 1.00928658e-02\n",
      " 2.63065025e-02 3.40523421e-02 5.23394529e-03 4.88182521e-03\n",
      " 1.51333373e-04 1.20462797e-02 5.35270749e-03 2.98323823e-03\n",
      " 8.90096967e-03 7.22163594e-03 1.04877501e-02 6.38437504e-03\n",
      " 9.43683712e-03 5.10594287e-03 1.37300421e-03 9.22314263e-03\n",
      " 6.44419687e-03 3.01891506e-03 3.48529407e-03 6.00797009e-03\n",
      " 8.71223606e-03 7.92358797e-03 5.59245471e-03 5.73937602e-05\n",
      " 1.59096703e-05 1.12734107e-02]\n"
     ]
    }
   ],
   "source": [
    "print(model.feature_importances_) #use inbuilt class feature_importances of tree based classifiers"
   ]
  },
  {
   "cell_type": "code",
   "execution_count": 77,
   "metadata": {},
   "outputs": [
    {
     "data": {
      "image/png": "[encoded data removed]",
      "text/plain": [
       "<Figure size 432x288 with 1 Axes>"
      ]
     },
     "metadata": {
      "needs_background": "light"
     },
     "output_type": "display_data"
    }
   ],
   "source": [
    "#plot graph of feature importances for better visualization\n",
    "feat_importances = pd.Series(model.feature_importances_, index=Xtrain.columns)\n",
    "feat_importances.nlargest(10).plot(kind='barh')\n",
    "plt.show()"
   ]
  },
  {
   "cell_type": "code",
   "execution_count": 78,
   "metadata": {},
   "outputs": [],
   "source": [
    "df_train = df_train[['AMT_CREDIT' , 'AMT_INCOME_TOTAL' ,'FLAG_OWN_REALTY' ,'FLAG_OWN_CAR',\n",
    "                     'NAME_EDUCATION_TYPE=Higher education', 'NAME_INCOME_TYPE=Working',\n",
    "                    'NAME_FAMILY_STATUS=Married','CODE_GENDER=M','NAME_FAMILY_STATUS=Single / not married',\n",
    "                     'NAME_HOUSING_TYPE=House / apartment'\n",
    "                    ]]"
   ]
  },
  {
   "cell_type": "code",
   "execution_count": 79,
   "metadata": {},
   "outputs": [
    {
     "data": {
      "text/plain": [
       "Index(['AMT_CREDIT', 'AMT_INCOME_TOTAL', 'FLAG_OWN_REALTY', 'FLAG_OWN_CAR',\n",
       "       'NAME_EDUCATION_TYPE=Higher education', 'NAME_INCOME_TYPE=Working',\n",
       "       'NAME_FAMILY_STATUS=Married', 'CODE_GENDER=M',\n",
       "       'NAME_FAMILY_STATUS=Single / not married',\n",
       "       'NAME_HOUSING_TYPE=House / apartment'],\n",
       "      dtype='object')"
      ]
     },
     "execution_count": 79,
     "metadata": {},
     "output_type": "execute_result"
    }
   ],
   "source": [
    "df_train.columns"
   ]
  },
  {
   "cell_type": "markdown",
   "metadata": {},
   "source": [
    "# Scaling"
   ]
  },
  {
   "cell_type": "code",
   "execution_count": 83,
   "metadata": {},
   "outputs": [
    {
     "name": "stderr",
     "output_type": "stream",
     "text": [
      "C:\\ProgramData\\Anaconda3\\lib\\site-packages\\sklearn\\preprocessing\\data.py:645: DataConversionWarning: Data with input dtype int32 were all converted to float64 by StandardScaler.\n",
      "  return self.partial_fit(X, y)\n",
      "C:\\ProgramData\\Anaconda3\\lib\\site-packages\\ipykernel_launcher.py:3: DataConversionWarning: Data with input dtype int32 were all converted to float64 by StandardScaler.\n",
      "  This is separate from the ipykernel package so we can avoid doing imports until\n"
     ]
    },
    {
     "data": {
      "text/html": [
       "<div>\n",
       "<style scoped>\n",
       "    .dataframe tbody tr th:only-of-type {\n",
       "        vertical-align: middle;\n",
       "    }\n",
       "\n",
       "    .dataframe tbody tr th {\n",
       "        vertical-align: top;\n",
       "    }\n",
       "\n",
       "    .dataframe thead th {\n",
       "        text-align: right;\n",
       "    }\n",
       "</style>\n",
       "<table border=\"1\" class=\"dataframe\">\n",
       "  <thead>\n",
       "    <tr style=\"text-align: right;\">\n",
       "      <th></th>\n",
       "      <th>0</th>\n",
       "      <th>1</th>\n",
       "      <th>2</th>\n",
       "      <th>3</th>\n",
       "      <th>4</th>\n",
       "      <th>5</th>\n",
       "      <th>6</th>\n",
       "      <th>7</th>\n",
       "      <th>8</th>\n",
       "      <th>9</th>\n",
       "    </tr>\n",
       "  </thead>\n",
       "  <tbody>\n",
       "    <tr>\n",
       "      <th>0</th>\n",
       "      <td>1.908642</td>\n",
       "      <td>0.028363</td>\n",
       "      <td>-1.490438</td>\n",
       "      <td>-0.706804</td>\n",
       "      <td>1.977216</td>\n",
       "      <td>-1.145189</td>\n",
       "      <td>0.774821</td>\n",
       "      <td>-0.795600</td>\n",
       "      <td>-0.438180</td>\n",
       "      <td>0.378199</td>\n",
       "    </tr>\n",
       "    <tr>\n",
       "      <th>1</th>\n",
       "      <td>-1.192285</td>\n",
       "      <td>-0.063838</td>\n",
       "      <td>0.670944</td>\n",
       "      <td>1.414818</td>\n",
       "      <td>-0.505762</td>\n",
       "      <td>0.873219</td>\n",
       "      <td>-1.290621</td>\n",
       "      <td>1.256914</td>\n",
       "      <td>2.282168</td>\n",
       "      <td>0.378199</td>\n",
       "    </tr>\n",
       "    <tr>\n",
       "      <th>2</th>\n",
       "      <td>-0.716689</td>\n",
       "      <td>-0.033105</td>\n",
       "      <td>0.670944</td>\n",
       "      <td>-0.706804</td>\n",
       "      <td>-0.505762</td>\n",
       "      <td>0.873219</td>\n",
       "      <td>-1.290621</td>\n",
       "      <td>-0.795600</td>\n",
       "      <td>-0.438180</td>\n",
       "      <td>0.378199</td>\n",
       "    </tr>\n",
       "    <tr>\n",
       "      <th>3</th>\n",
       "      <td>-0.180504</td>\n",
       "      <td>-0.039252</td>\n",
       "      <td>0.670944</td>\n",
       "      <td>-0.706804</td>\n",
       "      <td>-0.505762</td>\n",
       "      <td>0.873219</td>\n",
       "      <td>-1.290621</td>\n",
       "      <td>1.256914</td>\n",
       "      <td>2.282168</td>\n",
       "      <td>0.378199</td>\n",
       "    </tr>\n",
       "    <tr>\n",
       "      <th>4</th>\n",
       "      <td>-0.240742</td>\n",
       "      <td>-0.049496</td>\n",
       "      <td>0.670944</td>\n",
       "      <td>-0.706804</td>\n",
       "      <td>-0.505762</td>\n",
       "      <td>-1.145189</td>\n",
       "      <td>0.774821</td>\n",
       "      <td>1.256914</td>\n",
       "      <td>-0.438180</td>\n",
       "      <td>0.378199</td>\n",
       "    </tr>\n",
       "  </tbody>\n",
       "</table>\n",
       "</div>"
      ],
      "text/plain": [
       "          0         1         2         3         4         5         6  \\\n",
       "0  1.908642  0.028363 -1.490438 -0.706804  1.977216 -1.145189  0.774821   \n",
       "1 -1.192285 -0.063838  0.670944  1.414818 -0.505762  0.873219 -1.290621   \n",
       "2 -0.716689 -0.033105  0.670944 -0.706804 -0.505762  0.873219 -1.290621   \n",
       "3 -0.180504 -0.039252  0.670944 -0.706804 -0.505762  0.873219 -1.290621   \n",
       "4 -0.240742 -0.049496  0.670944 -0.706804 -0.505762 -1.145189  0.774821   \n",
       "\n",
       "          7         8         9  \n",
       "0 -0.795600 -0.438180  0.378199  \n",
       "1  1.256914  2.282168  0.378199  \n",
       "2 -0.795600 -0.438180  0.378199  \n",
       "3  1.256914  2.282168  0.378199  \n",
       "4  1.256914 -0.438180  0.378199  "
      ]
     },
     "execution_count": 83,
     "metadata": {},
     "output_type": "execute_result"
    }
   ],
   "source": [
    "scaler = StandardScaler()\n",
    "scaler.fit(df_train)\n",
    "scaled_data = scaler.transform(df_train)\n",
    "df_scale = pd.DataFrame(scaled_data)\n",
    "df_scale.head()"
   ]
  },
  {
   "cell_type": "markdown",
   "metadata": {},
   "source": [
    "# Fitting with Logistic Regression"
   ]
  },
  {
   "cell_type": "code",
   "execution_count": 85,
   "metadata": {},
   "outputs": [],
   "source": [
    "from sklearn.linear_model import LogisticRegression\n",
    "from sklearn.metrics import accuracy_score\n",
    "from sklearn.model_selection import train_test_split"
   ]
  },
  {
   "cell_type": "code",
   "execution_count": 86,
   "metadata": {},
   "outputs": [],
   "source": [
    "df = pd.DataFrame(scaled_data)"
   ]
  },
  {
   "cell_type": "code",
   "execution_count": 89,
   "metadata": {},
   "outputs": [
    {
     "data": {
      "text/html": [
       "<div>\n",
       "<style scoped>\n",
       "    .dataframe tbody tr th:only-of-type {\n",
       "        vertical-align: middle;\n",
       "    }\n",
       "\n",
       "    .dataframe tbody tr th {\n",
       "        vertical-align: top;\n",
       "    }\n",
       "\n",
       "    .dataframe thead th {\n",
       "        text-align: right;\n",
       "    }\n",
       "</style>\n",
       "<table border=\"1\" class=\"dataframe\">\n",
       "  <thead>\n",
       "    <tr style=\"text-align: right;\">\n",
       "      <th></th>\n",
       "      <th>0</th>\n",
       "      <th>1</th>\n",
       "      <th>2</th>\n",
       "      <th>3</th>\n",
       "      <th>4</th>\n",
       "      <th>5</th>\n",
       "      <th>6</th>\n",
       "      <th>7</th>\n",
       "      <th>8</th>\n",
       "      <th>9</th>\n",
       "    </tr>\n",
       "  </thead>\n",
       "  <tbody>\n",
       "    <tr>\n",
       "      <th>0</th>\n",
       "      <td>1.908642</td>\n",
       "      <td>0.028363</td>\n",
       "      <td>-1.490438</td>\n",
       "      <td>-0.706804</td>\n",
       "      <td>1.977216</td>\n",
       "      <td>-1.145189</td>\n",
       "      <td>0.774821</td>\n",
       "      <td>-0.795600</td>\n",
       "      <td>-0.438180</td>\n",
       "      <td>0.378199</td>\n",
       "    </tr>\n",
       "    <tr>\n",
       "      <th>1</th>\n",
       "      <td>-1.192285</td>\n",
       "      <td>-0.063838</td>\n",
       "      <td>0.670944</td>\n",
       "      <td>1.414818</td>\n",
       "      <td>-0.505762</td>\n",
       "      <td>0.873219</td>\n",
       "      <td>-1.290621</td>\n",
       "      <td>1.256914</td>\n",
       "      <td>2.282168</td>\n",
       "      <td>0.378199</td>\n",
       "    </tr>\n",
       "    <tr>\n",
       "      <th>2</th>\n",
       "      <td>-0.716689</td>\n",
       "      <td>-0.033105</td>\n",
       "      <td>0.670944</td>\n",
       "      <td>-0.706804</td>\n",
       "      <td>-0.505762</td>\n",
       "      <td>0.873219</td>\n",
       "      <td>-1.290621</td>\n",
       "      <td>-0.795600</td>\n",
       "      <td>-0.438180</td>\n",
       "      <td>0.378199</td>\n",
       "    </tr>\n",
       "    <tr>\n",
       "      <th>3</th>\n",
       "      <td>-0.180504</td>\n",
       "      <td>-0.039252</td>\n",
       "      <td>0.670944</td>\n",
       "      <td>-0.706804</td>\n",
       "      <td>-0.505762</td>\n",
       "      <td>0.873219</td>\n",
       "      <td>-1.290621</td>\n",
       "      <td>1.256914</td>\n",
       "      <td>2.282168</td>\n",
       "      <td>0.378199</td>\n",
       "    </tr>\n",
       "    <tr>\n",
       "      <th>4</th>\n",
       "      <td>-0.240742</td>\n",
       "      <td>-0.049496</td>\n",
       "      <td>0.670944</td>\n",
       "      <td>-0.706804</td>\n",
       "      <td>-0.505762</td>\n",
       "      <td>-1.145189</td>\n",
       "      <td>0.774821</td>\n",
       "      <td>1.256914</td>\n",
       "      <td>-0.438180</td>\n",
       "      <td>0.378199</td>\n",
       "    </tr>\n",
       "  </tbody>\n",
       "</table>\n",
       "</div>"
      ],
      "text/plain": [
       "          0         1         2         3         4         5         6  \\\n",
       "0  1.908642  0.028363 -1.490438 -0.706804  1.977216 -1.145189  0.774821   \n",
       "1 -1.192285 -0.063838  0.670944  1.414818 -0.505762  0.873219 -1.290621   \n",
       "2 -0.716689 -0.033105  0.670944 -0.706804 -0.505762  0.873219 -1.290621   \n",
       "3 -0.180504 -0.039252  0.670944 -0.706804 -0.505762  0.873219 -1.290621   \n",
       "4 -0.240742 -0.049496  0.670944 -0.706804 -0.505762 -1.145189  0.774821   \n",
       "\n",
       "          7         8         9  \n",
       "0 -0.795600 -0.438180  0.378199  \n",
       "1  1.256914  2.282168  0.378199  \n",
       "2 -0.795600 -0.438180  0.378199  \n",
       "3  1.256914  2.282168  0.378199  \n",
       "4  1.256914 -0.438180  0.378199  "
      ]
     },
     "execution_count": 89,
     "metadata": {},
     "output_type": "execute_result"
    }
   ],
   "source": [
    "df.head()"
   ]
  },
  {
   "cell_type": "code",
   "execution_count": 90,
   "metadata": {},
   "outputs": [],
   "source": [
    "Xtrain , Xtest,ytrain ,ytest = train_test_split(df,df_test,random_state = 1)"
   ]
  },
  {
   "cell_type": "code",
   "execution_count": 91,
   "metadata": {},
   "outputs": [
    {
     "data": {
      "text/plain": [
       "(27630, 10)"
      ]
     },
     "execution_count": 91,
     "metadata": {},
     "output_type": "execute_result"
    }
   ],
   "source": [
    "Xtrain.shape"
   ]
  },
  {
   "cell_type": "code",
   "execution_count": 92,
   "metadata": {},
   "outputs": [
    {
     "data": {
      "text/plain": [
       "(9210, 10)"
      ]
     },
     "execution_count": 92,
     "metadata": {},
     "output_type": "execute_result"
    }
   ],
   "source": [
    "Xtest.shape"
   ]
  },
  {
   "cell_type": "code",
   "execution_count": 93,
   "metadata": {},
   "outputs": [
    {
     "name": "stderr",
     "output_type": "stream",
     "text": [
      "C:\\ProgramData\\Anaconda3\\lib\\site-packages\\sklearn\\linear_model\\logistic.py:433: FutureWarning: Default solver will be changed to 'lbfgs' in 0.22. Specify a solver to silence this warning.\n",
      "  FutureWarning)\n"
     ]
    },
    {
     "data": {
      "text/plain": [
       "LogisticRegression(C=1.0, class_weight=None, dual=False, fit_intercept=True,\n",
       "          intercept_scaling=1, max_iter=100, multi_class='warn',\n",
       "          n_jobs=None, penalty='l2', random_state=None, solver='warn',\n",
       "          tol=0.0001, verbose=0, warm_start=False)"
      ]
     },
     "execution_count": 93,
     "metadata": {},
     "output_type": "execute_result"
    }
   ],
   "source": [
    "#train model\n",
    "model= LogisticRegression()\n",
    "model.fit(Xtrain,ytrain)"
   ]
  },
  {
   "cell_type": "code",
   "execution_count": 94,
   "metadata": {},
   "outputs": [],
   "source": [
    "y_model = model.predict(Xtest)"
   ]
  },
  {
   "cell_type": "code",
   "execution_count": 95,
   "metadata": {},
   "outputs": [
    {
     "data": {
      "text/plain": [
       "0.5906623235613464"
      ]
     },
     "execution_count": 95,
     "metadata": {},
     "output_type": "execute_result"
    }
   ],
   "source": [
    "accuracy_score(ytest,y_model)"
   ]
  },
  {
   "cell_type": "markdown",
   "metadata": {},
   "source": [
    "# SVM Model"
   ]
  },
  {
   "cell_type": "code",
   "execution_count": 96,
   "metadata": {},
   "outputs": [],
   "source": [
    "from sklearn.svm import SVC"
   ]
  },
  {
   "cell_type": "code",
   "execution_count": 97,
   "metadata": {},
   "outputs": [
    {
     "data": {
      "text/plain": [
       "SVC(C=1.0, cache_size=200, class_weight=None, coef0=0.0,\n",
       "  decision_function_shape='ovr', degree=3, gamma='auto_deprecated',\n",
       "  kernel='linear', max_iter=-1, probability=False, random_state=None,\n",
       "  shrinking=True, tol=0.001, verbose=False)"
      ]
     },
     "execution_count": 97,
     "metadata": {},
     "output_type": "execute_result"
    }
   ],
   "source": [
    "clf = SVC(kernel = 'linear' , C=1E0)\n",
    "clf.fit(Xtrain,ytrain)"
   ]
  },
  {
   "cell_type": "code",
   "execution_count": 98,
   "metadata": {},
   "outputs": [],
   "source": [
    "y_model = clf.predict(Xtest)"
   ]
  },
  {
   "cell_type": "code",
   "execution_count": 99,
   "metadata": {},
   "outputs": [
    {
     "data": {
      "text/plain": [
       "0.5944625407166124"
      ]
     },
     "execution_count": 99,
     "metadata": {},
     "output_type": "execute_result"
    }
   ],
   "source": [
    "accuracy_score(ytest , y_model)"
   ]
  },
  {
   "cell_type": "code",
   "execution_count": 102,
   "metadata": {},
   "outputs": [
    {
     "data": {
      "text/plain": [
       "array([[2687, 1954],\n",
       "       [1781, 2788]], dtype=int64)"
      ]
     },
     "execution_count": 102,
     "metadata": {},
     "output_type": "execute_result"
    }
   ],
   "source": [
    "\n",
    "# Making the Confusion Matrix\n",
    "from sklearn.metrics import confusion_matrix\n",
    "cm = confusion_matrix(ytest, y_model)\n",
    "cm"
   ]
  },
  {
   "cell_type": "markdown",
   "metadata": {},
   "source": [
    "# Applying Grid Search to find the best model and the best parameters "
   ]
  },
  {
   "cell_type": "code",
   "execution_count": 109,
   "metadata": {},
   "outputs": [
    {
     "ename": "SyntaxError",
     "evalue": "EOL while scanning string literal (<ipython-input-109-3c3312ca53e9>, line 12)",
     "output_type": "error",
     "traceback": [
      "\u001b[1;36m  File \u001b[1;32m\"<ipython-input-109-3c3312ca53e9>\"\u001b[1;36m, line \u001b[1;32m12\u001b[0m\n\u001b[1;33m    grid_search = grid_search.fit(Xtrain, ytrain)''''\u001b[0m\n\u001b[1;37m                                                     \n^\u001b[0m\n\u001b[1;31mSyntaxError\u001b[0m\u001b[1;31m:\u001b[0m EOL while scanning string literal\n"
     ]
    }
   ],
   "source": [
    "''''from sklearn.model_selection import RandomizedSearchCV\n",
    "parameters = [{'C': [1, 10, 100, 1000], 'kernel': ['linear']},\n",
    "              {'C': [1, 10, 100, 1000], 'kernel': ['rbf'], 'gamma': [0.1, 0.2, 0.3, 0.4, 0.5, 0.6, 0.7, 0.8, 0.9]},\n",
    "             {'C': [1, 10, 100, 1000], 'kernel': ['poly'], 'gamma': [0.1, 0.2, 0.3, 0.4, 0.5, 0.6, 0.7, 0.8, 0.9]}]\n",
    "rand_search = RandomizedSearchCV(clf,\n",
    "                           param_distributions= parameters,\n",
    "                           scoring = 'accuracy',\n",
    "                           cv = 5,\n",
    "                           n_iter = 5,\n",
    "                           n_jobs = -1,\n",
    "                           verbose=3)\n",
    "grid_search = grid_search.fit(Xtrain, ytrain)''''"
   ]
  },
  {
   "cell_type": "markdown",
   "metadata": {},
   "source": [
    "# xgboost"
   ]
  },
  {
   "cell_type": "code",
   "execution_count": 110,
   "metadata": {},
   "outputs": [],
   "source": [
    "## Hyper Parameter Optimization\n",
    "\n",
    "params={\n",
    " \"learning_rate\"    : [0.05, 0.10, 0.15, 0.20, 0.25, 0.30 ] ,\n",
    " \"max_depth\"        : [ 3, 4, 5, 6, 8, 10, 12, 15],\n",
    " \"min_child_weight\" : [ 1, 3, 5, 7 ],\n",
    " \"gamma\"            : [ 0.0, 0.1, 0.2 , 0.3, 0.4 ],\n",
    " \"colsample_bytree\" : [ 0.3, 0.4, 0.5 , 0.7 ]\n",
    "    \n",
    "}"
   ]
  },
  {
   "cell_type": "code",
   "execution_count": 111,
   "metadata": {},
   "outputs": [
    {
     "name": "stdout",
     "output_type": "stream",
     "text": [
      "Fitting 5 folds for each of 5 candidates, totalling 25 fits\n"
     ]
    },
    {
     "name": "stderr",
     "output_type": "stream",
     "text": [
      "[Parallel(n_jobs=-1)]: Using backend LokyBackend with 8 concurrent workers.\n",
      "[Parallel(n_jobs=-1)]: Done  19 out of  25 | elapsed:   15.8s remaining:    4.9s\n",
      "[Parallel(n_jobs=-1)]: Done  25 out of  25 | elapsed:   17.0s finished\n"
     ]
    },
    {
     "data": {
      "text/plain": [
       "RandomizedSearchCV(cv=5, error_score='raise-deprecating',\n",
       "          estimator=XGBClassifier(base_score=0.5, booster='gbtree', colsample_bylevel=1,\n",
       "       colsample_bynode=1, colsample_bytree=1, gamma=0, learning_rate=0.1,\n",
       "       max_delta_step=0, max_depth=3, min_child_weight=1, missing=None,\n",
       "       n_estimators=100, n_jobs=1, nthread=None,\n",
       "       objective='binary:logistic', random_state=0, reg_alpha=0,\n",
       "       reg_lambda=1, scale_pos_weight=1, seed=None, silent=None,\n",
       "       subsample=1, verbosity=1),\n",
       "          fit_params=None, iid='warn', n_iter=5, n_jobs=-1,\n",
       "          param_distributions={'learning_rate': [0.05, 0.1, 0.15, 0.2, 0.25, 0.3], 'max_depth': [3, 4, 5, 6, 8, 10, 12, 15], 'min_child_weight': [1, 3, 5, 7], 'gamma': [0.0, 0.1, 0.2, 0.3, 0.4], 'colsample_bytree': [0.3, 0.4, 0.5, 0.7]},\n",
       "          pre_dispatch='2*n_jobs', random_state=None, refit=True,\n",
       "          return_train_score='warn', scoring='roc_auc', verbose=3)"
      ]
     },
     "execution_count": 111,
     "metadata": {},
     "output_type": "execute_result"
    }
   ],
   "source": [
    "\n",
    "## Hyperparameter optimization using RandomizedSearchCV\n",
    "from sklearn.model_selection import RandomizedSearchCV\n",
    "import xgboost\n",
    "classifier=xgboost.XGBClassifier()\n",
    "random_search=RandomizedSearchCV(classifier,param_distributions=params,n_iter=5,scoring='roc_auc',n_jobs=-1,cv=5,verbose=3)\n",
    "random_search.fit(Xtrain,ytrain)"
   ]
  },
  {
   "cell_type": "code",
   "execution_count": 112,
   "metadata": {},
   "outputs": [
    {
     "data": {
      "text/plain": [
       "XGBClassifier(base_score=0.5, booster='gbtree', colsample_bylevel=1,\n",
       "       colsample_bynode=1, colsample_bytree=0.4, gamma=0.3,\n",
       "       learning_rate=0.05, max_delta_step=0, max_depth=15,\n",
       "       min_child_weight=1, missing=None, n_estimators=100, n_jobs=1,\n",
       "       nthread=None, objective='binary:logistic', random_state=0,\n",
       "       reg_alpha=0, reg_lambda=1, scale_pos_weight=1, seed=None,\n",
       "       silent=None, subsample=1, verbosity=1)"
      ]
     },
     "execution_count": 112,
     "metadata": {},
     "output_type": "execute_result"
    }
   ],
   "source": [
    "random_search.best_estimator_"
   ]
  },
  {
   "cell_type": "code",
   "execution_count": 113,
   "metadata": {},
   "outputs": [
    {
     "data": {
      "text/plain": [
       "{'min_child_weight': 1,\n",
       " 'max_depth': 15,\n",
       " 'learning_rate': 0.05,\n",
       " 'gamma': 0.3,\n",
       " 'colsample_bytree': 0.4}"
      ]
     },
     "execution_count": 113,
     "metadata": {},
     "output_type": "execute_result"
    }
   ],
   "source": [
    "random_search.best_params_"
   ]
  },
  {
   "cell_type": "code",
   "execution_count": 114,
   "metadata": {},
   "outputs": [],
   "source": [
    "classifier=xgboost.XGBClassifier(base_score=0.5, booster='gbtree', colsample_bylevel=1,\n",
    "       colsample_bytree=0.5, gamma=0.3, learning_rate=0.05,\n",
    "       max_delta_step=0, max_depth=15, min_child_weight=1, missing=None,\n",
    "       n_estimators=100, n_jobs=1, nthread=None,\n",
    "       objective='binary:logistic', random_state=0, reg_alpha=0,\n",
    "       reg_lambda=1, scale_pos_weight=1, seed=None, silent=None,\n",
    "       subsample=1)"
   ]
  },
  {
   "cell_type": "code",
   "execution_count": 115,
   "metadata": {},
   "outputs": [],
   "source": [
    "from sklearn.model_selection import cross_val_score\n",
    "score=cross_val_score(classifier,Xtest,ytest,cv=10)"
   ]
  },
  {
   "cell_type": "code",
   "execution_count": 116,
   "metadata": {},
   "outputs": [
    {
     "data": {
      "text/plain": [
       "array([0.82429501, 0.82301846, 0.81216069, 0.80021716, 0.81216069,\n",
       "       0.80130293, 0.80564604, 0.80998914, 0.78067318, 0.80108696])"
      ]
     },
     "execution_count": 116,
     "metadata": {},
     "output_type": "execute_result"
    }
   ],
   "source": [
    "score"
   ]
  },
  {
   "cell_type": "code",
   "execution_count": 117,
   "metadata": {},
   "outputs": [
    {
     "data": {
      "text/plain": [
       "0.8070550262698888"
      ]
     },
     "execution_count": 117,
     "metadata": {},
     "output_type": "execute_result"
    }
   ],
   "source": [
    "score.mean()"
   ]
  },
  {
   "cell_type": "markdown",
   "metadata": {},
   "source": [
    "#  Fitting Random Forest Regression to the dataset"
   ]
  },
  {
   "cell_type": "code",
   "execution_count": 118,
   "metadata": {},
   "outputs": [
    {
     "data": {
      "text/plain": [
       "array([0.85140998, 0.86753529, 0.86427796, 0.84690554, 0.84364821,\n",
       "       0.8577633 , 0.8534202 , 0.86210641, 0.84256243, 0.83804348])"
      ]
     },
     "execution_count": 118,
     "metadata": {},
     "output_type": "execute_result"
    }
   ],
   "source": [
    "\n",
    "\n",
    "from sklearn.ensemble import RandomForestClassifier\n",
    "classifier  = RandomForestClassifier(n_estimators = 10, random_state = 0)\n",
    "\n",
    "classifier.fit(Xtrain, ytrain)\n",
    "y_pred = classifier.predict(Xtest)\n",
    "from sklearn.model_selection import cross_val_score\n",
    "score=cross_val_score(classifier,Xtest,ytest,cv=10)\n",
    "score"
   ]
  },
  {
   "cell_type": "code",
   "execution_count": 119,
   "metadata": {},
   "outputs": [
    {
     "data": {
      "text/plain": [
       "0.8527672783387571"
      ]
     },
     "execution_count": 119,
     "metadata": {},
     "output_type": "execute_result"
    }
   ],
   "source": [
    "score.mean()"
   ]
  },
  {
   "cell_type": "code",
   "execution_count": 123,
   "metadata": {},
   "outputs": [],
   "source": [
    "params={'max_depth':[3,5,10,None],\n",
    "\n",
    "              'n_estimators':[10,100,200,300,400,500],\n",
    "\n",
    "              'max_features':[1,3],\n",
    "\n",
    "               'criterion':['gini','entropy'],\n",
    "\n",
    "               'bootstrap':[True,False],\n",
    "\n",
    "               'min_samples_leaf':[1,4],\n",
    "\n",
    "              }"
   ]
  },
  {
   "cell_type": "code",
   "execution_count": 124,
   "metadata": {},
   "outputs": [
    {
     "name": "stdout",
     "output_type": "stream",
     "text": [
      "Fitting 5 folds for each of 5 candidates, totalling 25 fits\n"
     ]
    },
    {
     "name": "stderr",
     "output_type": "stream",
     "text": [
      "[Parallel(n_jobs=-1)]: Using backend LokyBackend with 8 concurrent workers.\n",
      "[Parallel(n_jobs=-1)]: Done  19 out of  25 | elapsed:   11.3s remaining:    3.5s\n",
      "[Parallel(n_jobs=-1)]: Done  25 out of  25 | elapsed:   15.2s finished\n"
     ]
    },
    {
     "data": {
      "text/plain": [
       "RandomizedSearchCV(cv=5, error_score='raise-deprecating',\n",
       "          estimator=RandomForestClassifier(bootstrap=True, class_weight=None, criterion='gini',\n",
       "            max_depth=None, max_features='auto', max_leaf_nodes=None,\n",
       "            min_impurity_decrease=0.0, min_impurity_split=None,\n",
       "            min_samples_leaf=1, min_samples_split=2,\n",
       "            min_weight_fraction_leaf=0.0, n_estimators=10, n_jobs=None,\n",
       "            oob_score=False, random_state=0, verbose=0, warm_start=False),\n",
       "          fit_params=None, iid='warn', n_iter=5, n_jobs=-1,\n",
       "          param_distributions={'max_depth': [3, 5, 10, None], 'n_estimators': [10, 100, 200, 300, 400, 500], 'max_features': [1, 3], 'criterion': ['gini', 'entropy'], 'bootstrap': [True, False], 'min_samples_leaf': [1, 4]},\n",
       "          pre_dispatch='2*n_jobs', random_state=None, refit=True,\n",
       "          return_train_score='warn', scoring='roc_auc', verbose=3)"
      ]
     },
     "execution_count": 124,
     "metadata": {},
     "output_type": "execute_result"
    }
   ],
   "source": [
    "random_search=RandomizedSearchCV(classifier,param_distributions=params,n_iter=5,scoring='roc_auc',n_jobs=-1,cv=5,verbose=3)\n",
    "random_search.fit(Xtrain,ytrain)"
   ]
  },
  {
   "cell_type": "code",
   "execution_count": 125,
   "metadata": {},
   "outputs": [
    {
     "data": {
      "text/plain": [
       "RandomForestClassifier(bootstrap=False, class_weight=None,\n",
       "            criterion='entropy', max_depth=None, max_features=3,\n",
       "            max_leaf_nodes=None, min_impurity_decrease=0.0,\n",
       "            min_impurity_split=None, min_samples_leaf=1,\n",
       "            min_samples_split=2, min_weight_fraction_leaf=0.0,\n",
       "            n_estimators=100, n_jobs=None, oob_score=False, random_state=0,\n",
       "            verbose=0, warm_start=False)"
      ]
     },
     "execution_count": 125,
     "metadata": {},
     "output_type": "execute_result"
    }
   ],
   "source": [
    "random_search.best_estimator_"
   ]
  },
  {
   "cell_type": "code",
   "execution_count": 126,
   "metadata": {},
   "outputs": [
    {
     "data": {
      "text/plain": [
       "{'n_estimators': 100,\n",
       " 'min_samples_leaf': 1,\n",
       " 'max_features': 3,\n",
       " 'max_depth': None,\n",
       " 'criterion': 'entropy',\n",
       " 'bootstrap': False}"
      ]
     },
     "execution_count": 126,
     "metadata": {},
     "output_type": "execute_result"
    }
   ],
   "source": [
    "random_search.best_params_"
   ]
  },
  {
   "cell_type": "code",
   "execution_count": 129,
   "metadata": {},
   "outputs": [
    {
     "data": {
      "text/plain": [
       "array([0.87744035, 0.88165038, 0.86862106, 0.86427796, 0.86210641,\n",
       "       0.8762215 , 0.87947883, 0.87947883, 0.87187839, 0.85869565])"
      ]
     },
     "execution_count": 129,
     "metadata": {},
     "output_type": "execute_result"
    }
   ],
   "source": [
    "classifier  = RandomForestClassifier(n_estimators = 100,\n",
    "                                     min_samples_leaf = 1,\n",
    "                                     max_features =  3,\n",
    "                                     max_depth = None,\n",
    "                                     criterion = 'entropy',\n",
    "                                     bootstrap = False)\n",
    "\n",
    "classifier.fit(Xtrain, ytrain)\n",
    "y_pred = classifier.predict(Xtest)\n",
    "from sklearn.model_selection import cross_val_score\n",
    "score=cross_val_score(classifier,Xtest,ytest,cv=10)\n",
    "score"
   ]
  },
  {
   "cell_type": "code",
   "execution_count": 130,
   "metadata": {},
   "outputs": [
    {
     "data": {
      "text/plain": [
       "0.8719849354294356"
      ]
     },
     "execution_count": 130,
     "metadata": {},
     "output_type": "execute_result"
    }
   ],
   "source": [
    "score.mean()"
   ]
  },
  {
   "cell_type": "code",
   "execution_count": null,
   "metadata": {},
   "outputs": [],
   "source": []
  }
 ],
 "metadata": {
  "kernelspec": {
   "display_name": "Python 3",
   "language": "python",
   "name": "python3"
  },
  "language_info": {
   "codemirror_mode": {
    "name": "ipython",
    "version": 3
   },
   "file_extension": ".py",
   "mimetype": "text/x-python",
   "name": "python",
   "nbconvert_exporter": "python",
   "pygments_lexer": "ipython3",
   "version": "3.7.3"
  }
 },
 "nbformat": 4,
 "nbformat_minor": 2
}
